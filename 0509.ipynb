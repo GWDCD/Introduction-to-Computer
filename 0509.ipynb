{
  "nbformat": 4,
  "nbformat_minor": 0,
  "metadata": {
    "colab": {
      "name": "0509.ipynb",
      "provenance": [],
      "authorship_tag": "ABX9TyOGqbw0JQGah6s18vq47+wi",
      "include_colab_link": true
    },
    "kernelspec": {
      "name": "python3",
      "display_name": "Python 3"
    },
    "language_info": {
      "name": "python"
    }
  },
  "cells": [
    {
      "cell_type": "markdown",
      "metadata": {
        "id": "view-in-github",
        "colab_type": "text"
      },
      "source": [
        "<a href=\"https://colab.research.google.com/github/GWDCD/Introduction-to-Computer/blob/main/0509.ipynb\" target=\"_parent\"><img src=\"https://colab.research.google.com/assets/colab-badge.svg\" alt=\"Open In Colab\"/></a>"
      ]
    },
    {
      "cell_type": "code",
      "execution_count": 1,
      "metadata": {
        "colab": {
          "base_uri": "https://localhost:8080/"
        },
        "id": "S0kXvgAP8Bhj",
        "outputId": "fd960276-4d16-45d3-e902-fb4cc114eb40"
      },
      "outputs": [
        {
          "output_type": "stream",
          "name": "stdout",
          "text": [
            "123\n"
          ]
        }
      ],
      "source": [
        "print(\"123\")"
      ]
    },
    {
      "cell_type": "code",
      "source": [
        "temp=float(input(\"請輸入你的體溫\"))\n",
        "if temp>=37.5:\n",
        "  print(\"體溫過高\")\n",
        "elif temp>=37 and temp<37.4:\n",
        "  print(\"體溫過高\")\n",
        "elif temp>=34 and temp<=36.9:  \n",
        "  print(\"體溫正常\")\n",
        "else:\n",
        "  print(\"請重新檢測\")  \n",
        "\n"
      ],
      "metadata": {
        "colab": {
          "base_uri": "https://localhost:8080/"
        },
        "id": "lJy3bDwd8k0o",
        "outputId": "2532290c-2f4d-44e3-aa79-1a96b855c62c"
      },
      "execution_count": 5,
      "outputs": [
        {
          "output_type": "stream",
          "name": "stdout",
          "text": [
            "請輸入你的體溫3\n",
            "請重新檢測\n"
          ]
        }
      ]
    },
    {
      "cell_type": "code",
      "source": [
        "score=input(\"請輸入成績\")\n",
        "if (int(score))>=90:\n",
        "  print(\"A\")\n",
        "elif (int(score))>=80:\n",
        "  print(\"B\")\n",
        "elif (int(score))>=70:\n",
        "  print(\"C\")\n",
        "elif (int(score))>=60:\n",
        "  print(\"D\")\n",
        "else:\n",
        "  print(\"E\") \n"
      ],
      "metadata": {
        "colab": {
          "base_uri": "https://localhost:8080/"
        },
        "id": "Ctac4oZD8k55",
        "outputId": "cf12f12a-e731-48f4-913e-68a54132e059"
      },
      "execution_count": 9,
      "outputs": [
        {
          "output_type": "stream",
          "name": "stdout",
          "text": [
            "請輸入成績55\n",
            "E\n"
          ]
        }
      ]
    },
    {
      "cell_type": "code",
      "source": [
        "money=int(input(\"請輸入購物金\"))\n",
        "if(money>=10000):\n",
        "  if(money>=100000):\n",
        "    print(\"八折\",money*0.8,end=\"元/n\")\n",
        "  elif(money>=50000):\n",
        "    print(\"八五折\",money*0.85,end=\"元/n\")\n",
        "  if(money>=30000):\n",
        "    print(\"九折\",money*0.9,end=\"元/n\")\n",
        "  else:\n",
        "    print(\"九五折\",money*0.95,end=\"元/n\")\n",
        "else:\n",
        "  print(\"沒打折\",money, end=\"元/n\")    "
      ],
      "metadata": {
        "colab": {
          "base_uri": "https://localhost:8080/"
        },
        "id": "WTkVlGWP8k9s",
        "outputId": "05a7c130-f44c-4a01-a66a-42e7da66d6d2"
      },
      "execution_count": 18,
      "outputs": [
        {
          "output_type": "stream",
          "name": "stdout",
          "text": [
            "請輸入購物金5000\n",
            "沒打折 5000元/n"
          ]
        }
      ]
    },
    {
      "cell_type": "code",
      "source": [
        "month=input(\"請輸入月份\")\n",
        "if(int(month))<=12and(int(month))>=1:\n",
        "  if(int(month))>=12or(int(month))<=2:\n",
        "    print(month,end=\"月是冬天\")\n",
        "  if(int(month))>=9and(int(month))<=11:\n",
        "    print(month,end=\"月是秋天\")\n",
        "  if(int(month))>=6and(int(month))<=8:\n",
        "    print(month,end=\"月是夏天\")\n",
        "  if(int(month))>=3and(int(month))<=5:\n",
        "    print(month,end=\"月是春天\")      \n",
        "else:\n",
        "  print(month,end=\"月份不在範圍內\")  \n",
        "  "
      ],
      "metadata": {
        "colab": {
          "base_uri": "https://localhost:8080/"
        },
        "id": "t-2EWGVUf8hB",
        "outputId": "efc7b293-2945-4526-de36-1b303968a4f7"
      },
      "execution_count": 60,
      "outputs": [
        {
          "output_type": "stream",
          "name": "stdout",
          "text": [
            "請輸入月份5\n",
            "5月是春天"
          ]
        }
      ]
    },
    {
      "cell_type": "code",
      "source": [
        "tax=int(input(\"請輸入今年收入淨額\"))\n",
        "if(tax>=2000000):\n",
        "  print(\"付稅金額:\",tax*0.3,end=\"元\")\n",
        "elif(tax>=1000000):\n",
        "  print(\"付稅金額:\",tax*0.21,end=\"元\")\n",
        "elif(tax>=600000):\n",
        "  print(\"付稅金額:\",tax*0.13,end=\"元\")\n",
        "elif(tax>=300000):\n",
        "  print(\"付稅金額:\",tax*0.06,end=\"元\")\n",
        "else:\n",
        "  print(\"付稅金額0元\")  "
      ],
      "metadata": {
        "colab": {
          "base_uri": "https://localhost:8080/"
        },
        "id": "bVYUH1XHf8qo",
        "outputId": "e9a8c4e6-24cf-4c52-a58a-e7454c08e8bc"
      },
      "execution_count": 75,
      "outputs": [
        {
          "output_type": "stream",
          "name": "stdout",
          "text": [
            "請輸入今年收入淨額2000\n",
            "付稅金額0元\n"
          ]
        }
      ]
    }
  ]
}