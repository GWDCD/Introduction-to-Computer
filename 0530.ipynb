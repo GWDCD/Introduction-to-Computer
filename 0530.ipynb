{
  "cells": [
    {
      "cell_type": "markdown",
      "metadata": {
        "id": "view-in-github",
        "colab_type": "text"
      },
      "source": [
        "<a href=\"https://colab.research.google.com/github/GWDCD/Introduction-to-Computer/blob/main/0530.ipynb\" target=\"_parent\"><img src=\"https://colab.research.google.com/assets/colab-badge.svg\" alt=\"Open In Colab\"/></a>"
      ]
    },
    {
      "cell_type": "code",
      "execution_count": null,
      "metadata": {
        "colab": {
          "base_uri": "https://localhost:8080/"
        },
        "id": "Ve-2qRRlBclR",
        "outputId": "32a14bb2-917b-49b1-aa83-9a9169f045fe"
      },
      "outputs": [
        {
          "name": "stdout",
          "output_type": "stream",
          "text": [
            "55\n"
          ]
        }
      ],
      "source": [
        "total=n=0\n",
        "while(n<=10):\n",
        "  total+=n\n",
        "  n+=1\n",
        "print(total)"
      ]
    },
    {
      "cell_type": "code",
      "execution_count": null,
      "metadata": {
        "colab": {
          "base_uri": "https://localhost:8080/"
        },
        "id": "7HUDy7qXHhmz",
        "outputId": "bec0e9dd-4076-4648-e51f-1279b8686335"
      },
      "outputs": [
        {
          "name": "stdout",
          "output_type": "stream",
          "text": [
            "請輸入正整數5\n",
            "5 120\n"
          ]
        }
      ],
      "source": [
        "total=i=1\n",
        "n=int(input(\"請輸入正整數\"))\n",
        "while(i<=n):\n",
        "  total*=i\n",
        "  i+=1\n",
        "print(n,total)  "
      ]
    },
    {
      "cell_type": "code",
      "execution_count": null,
      "metadata": {
        "colab": {
          "base_uri": "https://localhost:8080/"
        },
        "id": "a4Pnn0GqHhxM",
        "outputId": "6e364563-9c32-4037-9060-c44a9c8a103b"
      },
      "outputs": [
        {
          "name": "stdout",
          "output_type": "stream",
          "text": [
            "625\n"
          ]
        }
      ],
      "source": [
        "total=n=0\n",
        "while(n<50):\n",
        "  n+=1\n",
        "  if n%2==0:\n",
        "    continue\n",
        "  total+=n\n",
        "print(total)  "
      ]
    },
    {
      "cell_type": "code",
      "execution_count": null,
      "metadata": {
        "colab": {
          "base_uri": "https://localhost:8080/"
        },
        "id": "AUVH2nPwHh1c",
        "outputId": "4a9ee713-939e-4dd3-bac7-a7e547533909"
      },
      "outputs": [
        {
          "name": "stdout",
          "output_type": "stream",
          "text": [
            "650\n"
          ]
        }
      ],
      "source": [
        "total=n=0\n",
        "while(n<50):\n",
        "  n+=1\n",
        "  if n%2!=0:\n",
        "    continue\n",
        "  total+=n\n",
        "print(total)"
      ]
    },
    {
      "cell_type": "code",
      "execution_count": 10,
      "metadata": {
        "colab": {
          "base_uri": "https://localhost:8080/"
        },
        "id": "AI1PQlvsTeli",
        "outputId": "67fe6d76-6f88-4d69-f234-96fee30c656b"
      },
      "outputs": [
        {
          "output_type": "stream",
          "name": "stdout",
          "text": [
            "請輸入數字7\n",
            "*******\n",
            "******\n",
            "*****\n",
            "****\n",
            "***\n",
            "**\n",
            "*\n"
          ]
        }
      ],
      "source": [
        "n=int(input(\"請輸入數字\"))\n",
        "for i in range(1,n+1):\n",
        "  for j in range(1,n+1):\n",
        "    if i<=j:\n",
        "      print(\"*\",end=\"\")\n",
        "  print( )    \n"
      ]
    },
    {
      "cell_type": "code",
      "execution_count": null,
      "metadata": {
        "colab": {
          "base_uri": "https://localhost:8080/"
        },
        "id": "uoQz-SwuTen8",
        "outputId": "846424f7-d685-4d74-bb44-3696cdd99e81"
      },
      "outputs": [
        {
          "name": "stdout",
          "output_type": "stream",
          "text": [
            "2943\n"
          ]
        }
      ],
      "source": [
        "total=n=1\n",
        "while(n<=100):\n",
        "  n+=1\n",
        "  if n%3==0 or n%7==0:\n",
        "    continue\n",
        "  total+=n\n",
        "print(total)"
      ]
    },
    {
      "cell_type": "code",
      "execution_count": null,
      "metadata": {
        "colab": {
          "base_uri": "https://localhost:8080/"
        },
        "id": "bIk3-NN8Teqg",
        "outputId": "0119904b-b749-46d9-bd76-1762eafc3ad9"
      },
      "outputs": [
        {
          "output_type": "stream",
          "name": "stdout",
          "text": [
            "請輸入正整數12\n",
            "1\n",
            "2\n",
            "3\n",
            "4\n",
            "6\n",
            "12\n"
          ]
        }
      ],
      "source": [
        "total=i=0\n",
        "n=int(input(\"請輸入正整數\"))\n",
        "while(i<=n):\n",
        "  i+=1\n",
        "  if n%i!=0:\n",
        "   continue\n",
        "  print(i)"
      ]
    }
  ],
  "metadata": {
    "colab": {
      "name": "0530.ipynb",
      "provenance": [],
      "authorship_tag": "ABX9TyNyq6hqgZz2ejRW/J0DqA72",
      "include_colab_link": true
    },
    "kernelspec": {
      "display_name": "Python 3",
      "name": "python3"
    },
    "language_info": {
      "name": "python"
    }
  },
  "nbformat": 4,
  "nbformat_minor": 0
}